{
 "cells": [
  {
   "cell_type": "markdown",
   "id": "2c6f8217-725d-4da5-b501-41a228ea13df",
   "metadata": {},
   "source": [
    "# Insert Books ERD"
   ]
  },
  {
   "cell_type": "markdown",
   "id": "ffa1bfa9-bcd3-45e6-b479-8b2b8b1f148d",
   "metadata": {},
   "source": [
    "![png](Data/books_ERD.png)"
   ]
  },
  {
   "cell_type": "markdown",
   "id": "43298a93-d6d0-496a-819c-bdcac5299ac9",
   "metadata": {},
   "source": [
    "> The books sql files are located in the Data folder"
   ]
  },
  {
   "cell_type": "code",
   "execution_count": null,
   "id": "bd0557c0-7009-4f9c-9952-b539ca18f2b1",
   "metadata": {},
   "outputs": [],
   "source": []
  }
 ],
 "metadata": {
  "kernelspec": {
   "display_name": "Python 3 (ipykernel)",
   "language": "python",
   "name": "python3"
  },
  "language_info": {
   "codemirror_mode": {
    "name": "ipython",
    "version": 3
   },
   "file_extension": ".py",
   "mimetype": "text/x-python",
   "name": "python",
   "nbconvert_exporter": "python",
   "pygments_lexer": "ipython3",
   "version": "3.9.15"
  }
 },
 "nbformat": 4,
 "nbformat_minor": 5
}
